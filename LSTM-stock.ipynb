{
 "cells": [
  {
   "cell_type": "markdown",
   "id": "b852ced1",
   "metadata": {},
   "source": [
    "# Постановка задачи\n",
    "\n",
    "Предсказать цену акций (https://raw.githubusercontent.com/mwitiderrick/stockprice/master/NSE-TATAGLOBAL.csv) с помощью LSTM."
   ]
  },
  {
   "cell_type": "code",
   "execution_count": 3,
   "id": "06771b14",
   "metadata": {},
   "outputs": [],
   "source": [
    "import numpy as np\n",
    "import pandas as pd\n",
    "import matplotlib.pyplot as plt\n",
    "import math\n",
    "\n",
    "from keras.models import Sequential\n",
    "from keras.layers import LSTM, Dense\n",
    "from sklearn.preprocessing import MinMaxScaler\n",
    "from sklearn.metrics import mean_squared_error"
   ]
  },
  {
   "cell_type": "markdown",
   "id": "a384955a",
   "metadata": {},
   "source": [
    "## Импортируем данные"
   ]
  },
  {
   "cell_type": "code",
   "execution_count": 13,
   "id": "60b7f363",
   "metadata": {},
   "outputs": [],
   "source": [
    "df = pd.read_csv('https://raw.githubusercontent.com/mwitiderrick/stockprice/master/NSE-TATAGLOBAL.csv')"
   ]
  },
  {
   "cell_type": "code",
   "execution_count": 14,
   "id": "f2af1de2",
   "metadata": {},
   "outputs": [
    {
     "data": {
      "text/html": [
       "<div>\n",
       "<style scoped>\n",
       "    .dataframe tbody tr th:only-of-type {\n",
       "        vertical-align: middle;\n",
       "    }\n",
       "\n",
       "    .dataframe tbody tr th {\n",
       "        vertical-align: top;\n",
       "    }\n",
       "\n",
       "    .dataframe thead th {\n",
       "        text-align: right;\n",
       "    }\n",
       "</style>\n",
       "<table border=\"1\" class=\"dataframe\">\n",
       "  <thead>\n",
       "    <tr style=\"text-align: right;\">\n",
       "      <th></th>\n",
       "      <th>Date</th>\n",
       "      <th>Open</th>\n",
       "      <th>High</th>\n",
       "      <th>Low</th>\n",
       "      <th>Last</th>\n",
       "      <th>Close</th>\n",
       "      <th>Total Trade Quantity</th>\n",
       "      <th>Turnover (Lacs)</th>\n",
       "    </tr>\n",
       "  </thead>\n",
       "  <tbody>\n",
       "    <tr>\n",
       "      <th>0</th>\n",
       "      <td>2018-09-28</td>\n",
       "      <td>234.05</td>\n",
       "      <td>235.95</td>\n",
       "      <td>230.20</td>\n",
       "      <td>233.50</td>\n",
       "      <td>233.75</td>\n",
       "      <td>3069914</td>\n",
       "      <td>7162.35</td>\n",
       "    </tr>\n",
       "    <tr>\n",
       "      <th>1</th>\n",
       "      <td>2018-09-27</td>\n",
       "      <td>234.55</td>\n",
       "      <td>236.80</td>\n",
       "      <td>231.10</td>\n",
       "      <td>233.80</td>\n",
       "      <td>233.25</td>\n",
       "      <td>5082859</td>\n",
       "      <td>11859.95</td>\n",
       "    </tr>\n",
       "    <tr>\n",
       "      <th>2</th>\n",
       "      <td>2018-09-26</td>\n",
       "      <td>240.00</td>\n",
       "      <td>240.00</td>\n",
       "      <td>232.50</td>\n",
       "      <td>235.00</td>\n",
       "      <td>234.25</td>\n",
       "      <td>2240909</td>\n",
       "      <td>5248.60</td>\n",
       "    </tr>\n",
       "    <tr>\n",
       "      <th>3</th>\n",
       "      <td>2018-09-25</td>\n",
       "      <td>233.30</td>\n",
       "      <td>236.75</td>\n",
       "      <td>232.00</td>\n",
       "      <td>236.25</td>\n",
       "      <td>236.10</td>\n",
       "      <td>2349368</td>\n",
       "      <td>5503.90</td>\n",
       "    </tr>\n",
       "    <tr>\n",
       "      <th>4</th>\n",
       "      <td>2018-09-24</td>\n",
       "      <td>233.55</td>\n",
       "      <td>239.20</td>\n",
       "      <td>230.75</td>\n",
       "      <td>234.00</td>\n",
       "      <td>233.30</td>\n",
       "      <td>3423509</td>\n",
       "      <td>7999.55</td>\n",
       "    </tr>\n",
       "  </tbody>\n",
       "</table>\n",
       "</div>"
      ],
      "text/plain": [
       "         Date    Open    High     Low    Last   Close  Total Trade Quantity  \\\n",
       "0  2018-09-28  234.05  235.95  230.20  233.50  233.75               3069914   \n",
       "1  2018-09-27  234.55  236.80  231.10  233.80  233.25               5082859   \n",
       "2  2018-09-26  240.00  240.00  232.50  235.00  234.25               2240909   \n",
       "3  2018-09-25  233.30  236.75  232.00  236.25  236.10               2349368   \n",
       "4  2018-09-24  233.55  239.20  230.75  234.00  233.30               3423509   \n",
       "\n",
       "   Turnover (Lacs)  \n",
       "0          7162.35  \n",
       "1         11859.95  \n",
       "2          5248.60  \n",
       "3          5503.90  \n",
       "4          7999.55  "
      ]
     },
     "execution_count": 14,
     "metadata": {},
     "output_type": "execute_result"
    }
   ],
   "source": [
    "df.head()"
   ]
  },
  {
   "cell_type": "markdown",
   "id": "087e877d",
   "metadata": {},
   "source": [
    "## Предобработка данных"
   ]
  },
  {
   "cell_type": "code",
   "execution_count": 35,
   "id": "f95ee312",
   "metadata": {},
   "outputs": [],
   "source": [
    "df_new = df['Close'] # создаём новый датасет с данными по столбцу Close"
   ]
  },
  {
   "cell_type": "code",
   "execution_count": 36,
   "id": "ffc22d2e",
   "metadata": {},
   "outputs": [
    {
     "data": {
      "text/plain": [
       "0       233.75\n",
       "1       233.25\n",
       "2       234.25\n",
       "3       236.10\n",
       "4       233.30\n",
       "         ...  \n",
       "2030    118.65\n",
       "2031    117.60\n",
       "2032    120.65\n",
       "2033    120.90\n",
       "2034    121.55\n",
       "Name: Close, Length: 2035, dtype: float64"
      ]
     },
     "execution_count": 36,
     "metadata": {},
     "output_type": "execute_result"
    }
   ],
   "source": [
    "df_new"
   ]
  },
  {
   "cell_type": "code",
   "execution_count": 37,
   "id": "86787486",
   "metadata": {},
   "outputs": [],
   "source": [
    "df_new = df_new.values # переводим новый датасет (сейчас он записан в виде DataFrame) в тип numpy"
   ]
  },
  {
   "cell_type": "code",
   "execution_count": 38,
   "id": "8c7cc6b1",
   "metadata": {},
   "outputs": [
    {
     "data": {
      "text/plain": [
       "numpy.ndarray"
      ]
     },
     "execution_count": 38,
     "metadata": {},
     "output_type": "execute_result"
    }
   ],
   "source": [
    "type(df_new)"
   ]
  },
  {
   "cell_type": "code",
   "execution_count": 39,
   "id": "d6dd94c1",
   "metadata": {},
   "outputs": [],
   "source": [
    "df_new = df_new.astype('float32') # приводим значения массива к вещественным числам"
   ]
  },
  {
   "cell_type": "code",
   "execution_count": 31,
   "id": "e62d31c0",
   "metadata": {},
   "outputs": [
    {
     "data": {
      "text/plain": [
       "array([233.75, 233.25, 234.25, ..., 120.65, 120.9 , 121.55], dtype=float32)"
      ]
     },
     "execution_count": 31,
     "metadata": {},
     "output_type": "execute_result"
    }
   ],
   "source": [
    "df_new"
   ]
  },
  {
   "cell_type": "code",
   "execution_count": 49,
   "id": "ed428ddc",
   "metadata": {},
   "outputs": [
    {
     "data": {
      "text/plain": [
       "array([[233.75],\n",
       "       [233.25],\n",
       "       [234.25],\n",
       "       ...,\n",
       "       [120.65],\n",
       "       [120.9 ],\n",
       "       [121.55]], dtype=float32)"
      ]
     },
     "execution_count": 49,
     "metadata": {},
     "output_type": "execute_result"
    }
   ],
   "source": [
    "df_new = df_new.reshape(-1, 1)\n",
    "df_new"
   ]
  },
  {
   "cell_type": "code",
   "execution_count": 79,
   "id": "f635a9c4",
   "metadata": {},
   "outputs": [
    {
     "data": {
      "image/png": "[encoded data removed]",
      "text/plain": [
       "<Figure size 432x288 with 1 Axes>"
      ]
     },
     "metadata": {
      "needs_background": "light"
     },
     "output_type": "display_data"
    }
   ],
   "source": [
    "plt.plot(df_new) # отображаем данные на графике\n",
    "plt.show()"
   ]
  },
  {
   "cell_type": "code",
   "execution_count": 50,
   "id": "7f7c67b6",
   "metadata": {},
   "outputs": [],
   "source": [
    "scaler = MinMaxScaler(feature_range=(0, 1)) # сжимаем данные от 0 до 1, чтобы нейросети было проще обрабатывать данные\n",
    "df_new = scaler.fit_transform(df_new)"
   ]
  },
  {
   "cell_type": "code",
   "execution_count": 52,
   "id": "759bfc0c",
   "metadata": {},
   "outputs": [
    {
     "data": {
      "text/plain": [
       "array([[0.62418294],\n",
       "       [0.6221405 ],\n",
       "       [0.6262255 ],\n",
       "       ...,\n",
       "       [0.16217321],\n",
       "       [0.16319445],\n",
       "       [0.16584969]], dtype=float32)"
      ]
     },
     "execution_count": 52,
     "metadata": {},
     "output_type": "execute_result"
    }
   ],
   "source": [
    "df_new"
   ]
  },
  {
   "cell_type": "code",
   "execution_count": 54,
   "id": "f85b46b9",
   "metadata": {},
   "outputs": [
    {
     "name": "stdout",
     "output_type": "stream",
     "text": [
      "1363 672\n"
     ]
    }
   ],
   "source": [
    "train_size = int(len(df_new) * 0.67) # задаём тренировочный массив (2/3 от общего числа данных)\n",
    "test_size = len(df_new) - train_size # задаём массив тестовых данных\n",
    "train, test = df_new[:train_size, :], df_new[train_size:,:] # задаём переменные train и test\n",
    "print(len(train), len(test))"
   ]
  },
  {
   "cell_type": "markdown",
   "id": "91a243b9",
   "metadata": {},
   "source": [
    "## Сбор и обработка features и labels"
   ]
  },
  {
   "cell_type": "code",
   "execution_count": 56,
   "id": "23d3ec89",
   "metadata": {},
   "outputs": [],
   "source": [
    "def create_dataset(df_new, look_back): # look_back - ширина окна (window) - количество месяцев, которое мы берём (features), чтобы предсказать значение в последующем месяце (labels)\n",
    "    dataX, dataY = [], [] # создаём отдельные массивы (features и labels)\n",
    "    for i in range(len(df_new)-look_back-1):\n",
    "        a = df_new[i:(i+look_back), 0] # на каждой итерации берётся значение датасете от текущего месяца (i) до значения окна (i+look_back)\n",
    "        dataX.append(a) # добавляем фичу (a) в dataX\n",
    "        dataY.append(df_new[i + look_back, 0]) # добавляем лейбл (df_new[i + look_back, 0]) - следующее значение месяца, который идёт после окна, которое мы берём\n",
    "    return np.array(dataX), np.array(dataY) # возвращаем массивы dataX и dataY как массивы numpy"
   ]
  },
  {
   "cell_type": "markdown",
   "id": "cfdba8c2",
   "metadata": {},
   "source": [
    "## Создание модели"
   ]
  },
  {
   "cell_type": "code",
   "execution_count": 67,
   "id": "aa0d306f",
   "metadata": {},
   "outputs": [],
   "source": [
    "look_back = 2\n",
    "trainX, trainY = create_dataset(train, look_back) # создаём тренировочный датасет\n",
    "testX, testY = create_dataset(test, look_back) # создаём тестовый датасет"
   ]
  },
  {
   "cell_type": "code",
   "execution_count": 68,
   "id": "e2c8f286",
   "metadata": {},
   "outputs": [
    {
     "data": {
      "text/plain": [
       "(1360, 2)"
      ]
     },
     "execution_count": 68,
     "metadata": {},
     "output_type": "execute_result"
    }
   ],
   "source": [
    "trainX.shape # смотрим размерность датасета с тренировочными данными"
   ]
  },
  {
   "cell_type": "code",
   "execution_count": 69,
   "id": "0ad08fb2",
   "metadata": {},
   "outputs": [],
   "source": [
    "trainX = np.reshape(trainX, (trainX.shape[0], 1, trainX.shape[1])) # меняем размерность датасета для сети LSTM\n",
    "testX = np.reshape(testX, (testX.shape[0], 1, testX.shape[1]))"
   ]
  },
  {
   "cell_type": "code",
   "execution_count": 70,
   "id": "76d50f25",
   "metadata": {},
   "outputs": [
    {
     "data": {
      "text/plain": [
       "(1360, 1, 2)"
      ]
     },
     "execution_count": 70,
     "metadata": {},
     "output_type": "execute_result"
    }
   ],
   "source": [
    "trainX.shape # смотрим размерность датасета с тренировочными данными"
   ]
  },
  {
   "cell_type": "code",
   "execution_count": 71,
   "id": "1fed88a9",
   "metadata": {},
   "outputs": [],
   "source": [
    "model = Sequential()\n",
    "model.add(LSTM(4, input_shape=(1, look_back))) # добавляем рекуррентный слой LSTM\n",
    "model.add(Dense(1)) # добавляем полносвязный слой Dense"
   ]
  },
  {
   "cell_type": "code",
   "execution_count": 72,
   "id": "53a13df5",
   "metadata": {},
   "outputs": [
    {
     "name": "stdout",
     "output_type": "stream",
     "text": [
      "Model: \"sequential_1\"\n",
      "_________________________________________________________________\n",
      " Layer (type)                Output Shape              Param #   \n",
      "=================================================================\n",
      " lstm_1 (LSTM)               (None, 4)                 112       \n",
      "                                                                 \n",
      " dense_1 (Dense)             (None, 1)                 5         \n",
      "                                                                 \n",
      "=================================================================\n",
      "Total params: 117\n",
      "Trainable params: 117\n",
      "Non-trainable params: 0\n",
      "_________________________________________________________________\n"
     ]
    }
   ],
   "source": [
    "model.summary()"
   ]
  },
  {
   "cell_type": "code",
   "execution_count": 73,
   "id": "d0fbc1a9",
   "metadata": {},
   "outputs": [],
   "source": [
    "model.compile(loss='mean_squared_error', optimizer='adam') # компилируем модель"
   ]
  },
  {
   "cell_type": "code",
   "execution_count": 74,
   "id": "0853a61a",
   "metadata": {},
   "outputs": [
    {
     "name": "stdout",
     "output_type": "stream",
     "text": [
      "Epoch 1/100\n",
      "1360/1360 - 5s - loss: 0.0119 - 5s/epoch - 3ms/step\n",
      "Epoch 2/100\n",
      "1360/1360 - 3s - loss: 2.8138e-04 - 3s/epoch - 2ms/step\n",
      "Epoch 3/100\n",
      "1360/1360 - 3s - loss: 2.8734e-04 - 3s/epoch - 2ms/step\n",
      "Epoch 4/100\n",
      "1360/1360 - 3s - loss: 2.8465e-04 - 3s/epoch - 2ms/step\n",
      "Epoch 5/100\n",
      "1360/1360 - 3s - loss: 2.9067e-04 - 3s/epoch - 2ms/step\n",
      "Epoch 6/100\n",
      "1360/1360 - 3s - loss: 2.8524e-04 - 3s/epoch - 2ms/step\n",
      "Epoch 7/100\n",
      "1360/1360 - 3s - loss: 2.8436e-04 - 3s/epoch - 2ms/step\n",
      "Epoch 8/100\n",
      "1360/1360 - 3s - loss: 2.8338e-04 - 3s/epoch - 2ms/step\n",
      "Epoch 9/100\n",
      "1360/1360 - 3s - loss: 2.9197e-04 - 3s/epoch - 2ms/step\n",
      "Epoch 10/100\n",
      "1360/1360 - 3s - loss: 2.8577e-04 - 3s/epoch - 2ms/step\n",
      "Epoch 11/100\n",
      "1360/1360 - 3s - loss: 2.7597e-04 - 3s/epoch - 2ms/step\n",
      "Epoch 12/100\n",
      "1360/1360 - 3s - loss: 2.6716e-04 - 3s/epoch - 2ms/step\n",
      "Epoch 13/100\n",
      "1360/1360 - 3s - loss: 2.7589e-04 - 3s/epoch - 2ms/step\n",
      "Epoch 14/100\n",
      "1360/1360 - 3s - loss: 2.6870e-04 - 3s/epoch - 2ms/step\n",
      "Epoch 15/100\n",
      "1360/1360 - 3s - loss: 2.7395e-04 - 3s/epoch - 2ms/step\n",
      "Epoch 16/100\n",
      "1360/1360 - 3s - loss: 2.7302e-04 - 3s/epoch - 2ms/step\n",
      "Epoch 17/100\n",
      "1360/1360 - 3s - loss: 2.6056e-04 - 3s/epoch - 2ms/step\n",
      "Epoch 18/100\n",
      "1360/1360 - 3s - loss: 2.6709e-04 - 3s/epoch - 2ms/step\n",
      "Epoch 19/100\n",
      "1360/1360 - 3s - loss: 2.5370e-04 - 3s/epoch - 2ms/step\n",
      "Epoch 20/100\n",
      "1360/1360 - 3s - loss: 2.6791e-04 - 3s/epoch - 2ms/step\n",
      "Epoch 21/100\n",
      "1360/1360 - 3s - loss: 2.6493e-04 - 3s/epoch - 2ms/step\n",
      "Epoch 22/100\n",
      "1360/1360 - 3s - loss: 2.6262e-04 - 3s/epoch - 2ms/step\n",
      "Epoch 23/100\n",
      "1360/1360 - 3s - loss: 2.5094e-04 - 3s/epoch - 2ms/step\n",
      "Epoch 24/100\n",
      "1360/1360 - 3s - loss: 2.6656e-04 - 3s/epoch - 2ms/step\n",
      "Epoch 25/100\n",
      "1360/1360 - 3s - loss: 2.5940e-04 - 3s/epoch - 2ms/step\n",
      "Epoch 26/100\n",
      "1360/1360 - 3s - loss: 2.6300e-04 - 3s/epoch - 2ms/step\n",
      "Epoch 27/100\n",
      "1360/1360 - 3s - loss: 2.5637e-04 - 3s/epoch - 2ms/step\n",
      "Epoch 28/100\n",
      "1360/1360 - 3s - loss: 2.5791e-04 - 3s/epoch - 2ms/step\n",
      "Epoch 29/100\n",
      "1360/1360 - 3s - loss: 2.5344e-04 - 3s/epoch - 2ms/step\n",
      "Epoch 30/100\n",
      "1360/1360 - 3s - loss: 2.5771e-04 - 3s/epoch - 2ms/step\n",
      "Epoch 31/100\n",
      "1360/1360 - 3s - loss: 2.5868e-04 - 3s/epoch - 2ms/step\n",
      "Epoch 32/100\n",
      "1360/1360 - 3s - loss: 2.4714e-04 - 3s/epoch - 2ms/step\n",
      "Epoch 33/100\n",
      "1360/1360 - 3s - loss: 2.5095e-04 - 3s/epoch - 2ms/step\n",
      "Epoch 34/100\n",
      "1360/1360 - 3s - loss: 2.5298e-04 - 3s/epoch - 2ms/step\n",
      "Epoch 35/100\n",
      "1360/1360 - 3s - loss: 2.5540e-04 - 3s/epoch - 2ms/step\n",
      "Epoch 36/100\n",
      "1360/1360 - 3s - loss: 2.5134e-04 - 3s/epoch - 2ms/step\n",
      "Epoch 37/100\n",
      "1360/1360 - 3s - loss: 2.5184e-04 - 3s/epoch - 2ms/step\n",
      "Epoch 38/100\n",
      "1360/1360 - 3s - loss: 2.4166e-04 - 3s/epoch - 2ms/step\n",
      "Epoch 39/100\n",
      "1360/1360 - 3s - loss: 2.4084e-04 - 3s/epoch - 2ms/step\n",
      "Epoch 40/100\n",
      "1360/1360 - 3s - loss: 2.4544e-04 - 3s/epoch - 2ms/step\n",
      "Epoch 41/100\n",
      "1360/1360 - 3s - loss: 2.5143e-04 - 3s/epoch - 2ms/step\n",
      "Epoch 42/100\n",
      "1360/1360 - 3s - loss: 2.5294e-04 - 3s/epoch - 2ms/step\n",
      "Epoch 43/100\n",
      "1360/1360 - 3s - loss: 2.4736e-04 - 3s/epoch - 2ms/step\n",
      "Epoch 44/100\n",
      "1360/1360 - 3s - loss: 2.5032e-04 - 3s/epoch - 2ms/step\n",
      "Epoch 45/100\n",
      "1360/1360 - 3s - loss: 2.4238e-04 - 3s/epoch - 2ms/step\n",
      "Epoch 46/100\n",
      "1360/1360 - 3s - loss: 2.4171e-04 - 3s/epoch - 2ms/step\n",
      "Epoch 47/100\n",
      "1360/1360 - 3s - loss: 2.4483e-04 - 3s/epoch - 3ms/step\n",
      "Epoch 48/100\n",
      "1360/1360 - 3s - loss: 2.4199e-04 - 3s/epoch - 2ms/step\n",
      "Epoch 49/100\n",
      "1360/1360 - 3s - loss: 2.4517e-04 - 3s/epoch - 2ms/step\n",
      "Epoch 50/100\n",
      "1360/1360 - 3s - loss: 2.4157e-04 - 3s/epoch - 2ms/step\n",
      "Epoch 51/100\n",
      "1360/1360 - 3s - loss: 2.4169e-04 - 3s/epoch - 2ms/step\n",
      "Epoch 52/100\n",
      "1360/1360 - 3s - loss: 2.4480e-04 - 3s/epoch - 2ms/step\n",
      "Epoch 53/100\n",
      "1360/1360 - 3s - loss: 2.3750e-04 - 3s/epoch - 2ms/step\n",
      "Epoch 54/100\n",
      "1360/1360 - 3s - loss: 2.4666e-04 - 3s/epoch - 3ms/step\n",
      "Epoch 55/100\n",
      "1360/1360 - 5s - loss: 2.4733e-04 - 5s/epoch - 4ms/step\n",
      "Epoch 56/100\n",
      "1360/1360 - 7s - loss: 2.4994e-04 - 7s/epoch - 5ms/step\n",
      "Epoch 57/100\n",
      "1360/1360 - 6s - loss: 2.4182e-04 - 6s/epoch - 4ms/step\n",
      "Epoch 58/100\n",
      "1360/1360 - 7s - loss: 2.4808e-04 - 7s/epoch - 5ms/step\n",
      "Epoch 59/100\n",
      "1360/1360 - 4s - loss: 2.4434e-04 - 4s/epoch - 3ms/step\n",
      "Epoch 60/100\n",
      "1360/1360 - 4s - loss: 2.5149e-04 - 4s/epoch - 3ms/step\n",
      "Epoch 61/100\n",
      "1360/1360 - 4s - loss: 2.3571e-04 - 4s/epoch - 3ms/step\n",
      "Epoch 62/100\n",
      "1360/1360 - 4s - loss: 2.4332e-04 - 4s/epoch - 3ms/step\n",
      "Epoch 63/100\n",
      "1360/1360 - 4s - loss: 2.3619e-04 - 4s/epoch - 3ms/step\n",
      "Epoch 64/100\n",
      "1360/1360 - 4s - loss: 2.4063e-04 - 4s/epoch - 3ms/step\n",
      "Epoch 65/100\n",
      "1360/1360 - 4s - loss: 2.3254e-04 - 4s/epoch - 3ms/step\n",
      "Epoch 66/100\n",
      "1360/1360 - 5s - loss: 2.4800e-04 - 5s/epoch - 4ms/step\n",
      "Epoch 67/100\n",
      "1360/1360 - 5s - loss: 2.5082e-04 - 5s/epoch - 4ms/step\n",
      "Epoch 68/100\n",
      "1360/1360 - 4s - loss: 2.4491e-04 - 4s/epoch - 3ms/step\n",
      "Epoch 69/100\n",
      "1360/1360 - 4s - loss: 2.4646e-04 - 4s/epoch - 3ms/step\n",
      "Epoch 70/100\n",
      "1360/1360 - 4s - loss: 2.3877e-04 - 4s/epoch - 3ms/step\n",
      "Epoch 71/100\n",
      "1360/1360 - 4s - loss: 2.4041e-04 - 4s/epoch - 3ms/step\n",
      "Epoch 72/100\n",
      "1360/1360 - 4s - loss: 2.3664e-04 - 4s/epoch - 3ms/step\n",
      "Epoch 73/100\n",
      "1360/1360 - 4s - loss: 2.4376e-04 - 4s/epoch - 3ms/step\n",
      "Epoch 74/100\n",
      "1360/1360 - 4s - loss: 2.4620e-04 - 4s/epoch - 3ms/step\n",
      "Epoch 75/100\n",
      "1360/1360 - 4s - loss: 2.4476e-04 - 4s/epoch - 3ms/step\n",
      "Epoch 76/100\n",
      "1360/1360 - 4s - loss: 2.4370e-04 - 4s/epoch - 3ms/step\n",
      "Epoch 77/100\n",
      "1360/1360 - 4s - loss: 2.3825e-04 - 4s/epoch - 3ms/step\n",
      "Epoch 78/100\n",
      "1360/1360 - 4s - loss: 2.4277e-04 - 4s/epoch - 3ms/step\n",
      "Epoch 79/100\n",
      "1360/1360 - 4s - loss: 2.5298e-04 - 4s/epoch - 3ms/step\n",
      "Epoch 80/100\n",
      "1360/1360 - 4s - loss: 2.4300e-04 - 4s/epoch - 3ms/step\n",
      "Epoch 81/100\n",
      "1360/1360 - 4s - loss: 2.3929e-04 - 4s/epoch - 3ms/step\n",
      "Epoch 82/100\n",
      "1360/1360 - 4s - loss: 2.3855e-04 - 4s/epoch - 3ms/step\n",
      "Epoch 83/100\n",
      "1360/1360 - 4s - loss: 2.4480e-04 - 4s/epoch - 3ms/step\n",
      "Epoch 84/100\n",
      "1360/1360 - 4s - loss: 2.4331e-04 - 4s/epoch - 3ms/step\n",
      "Epoch 85/100\n",
      "1360/1360 - 4s - loss: 2.4672e-04 - 4s/epoch - 3ms/step\n",
      "Epoch 86/100\n",
      "1360/1360 - 4s - loss: 2.4568e-04 - 4s/epoch - 3ms/step\n",
      "Epoch 87/100\n",
      "1360/1360 - 4s - loss: 2.4562e-04 - 4s/epoch - 3ms/step\n",
      "Epoch 88/100\n",
      "1360/1360 - 4s - loss: 2.4428e-04 - 4s/epoch - 3ms/step\n",
      "Epoch 89/100\n",
      "1360/1360 - 4s - loss: 2.4062e-04 - 4s/epoch - 3ms/step\n",
      "Epoch 90/100\n",
      "1360/1360 - 4s - loss: 2.3465e-04 - 4s/epoch - 3ms/step\n",
      "Epoch 91/100\n",
      "1360/1360 - 4s - loss: 2.4501e-04 - 4s/epoch - 3ms/step\n",
      "Epoch 92/100\n",
      "1360/1360 - 4s - loss: 2.3974e-04 - 4s/epoch - 3ms/step\n",
      "Epoch 93/100\n",
      "1360/1360 - 4s - loss: 2.3606e-04 - 4s/epoch - 3ms/step\n",
      "Epoch 94/100\n",
      "1360/1360 - 4s - loss: 2.4201e-04 - 4s/epoch - 3ms/step\n",
      "Epoch 95/100\n",
      "1360/1360 - 4s - loss: 2.3651e-04 - 4s/epoch - 3ms/step\n",
      "Epoch 96/100\n",
      "1360/1360 - 4s - loss: 2.3955e-04 - 4s/epoch - 3ms/step\n",
      "Epoch 97/100\n",
      "1360/1360 - 4s - loss: 2.4689e-04 - 4s/epoch - 3ms/step\n",
      "Epoch 98/100\n",
      "1360/1360 - 4s - loss: 2.3958e-04 - 4s/epoch - 3ms/step\n",
      "Epoch 99/100\n",
      "1360/1360 - 4s - loss: 2.4514e-04 - 4s/epoch - 3ms/step\n",
      "Epoch 100/100\n",
      "1360/1360 - 4s - loss: 2.4077e-04 - 4s/epoch - 3ms/step\n"
     ]
    },
    {
     "data": {
      "text/plain": [
       "<keras.callbacks.History at 0x7f9e36f82f70>"
      ]
     },
     "execution_count": 74,
     "metadata": {},
     "output_type": "execute_result"
    }
   ],
   "source": [
    "model.fit(trainX, trainY, epochs=100, batch_size=1, verbose=2)"
   ]
  },
  {
   "cell_type": "code",
   "execution_count": 75,
   "id": "06fda801",
   "metadata": {},
   "outputs": [
    {
     "name": "stdout",
     "output_type": "stream",
     "text": [
      "43/43 [==============================] - 1s 2ms/step\n",
      "21/21 [==============================] - 0s 2ms/step\n"
     ]
    }
   ],
   "source": [
    "# делаем предсказание\n",
    "trainPredict = model.predict(trainX)\n",
    "testPredict = model.predict(testX)"
   ]
  },
  {
   "cell_type": "code",
   "execution_count": 76,
   "id": "abc7429d",
   "metadata": {},
   "outputs": [],
   "source": [
    "# делаем обратную трансформацию, чтобы привести данные к изначальному виду\n",
    "trainPredict = scaler.inverse_transform(trainPredict)\n",
    "trainY = scaler.inverse_transform([trainY])\n",
    "testPredict = scaler.inverse_transform(testPredict)\n",
    "testY = scaler.inverse_transform([testY])"
   ]
  },
  {
   "cell_type": "code",
   "execution_count": 78,
   "id": "e0bc7a55",
   "metadata": {},
   "outputs": [
    {
     "data": {
      "image/png": "[encoded data removed]",
      "text/plain": [
       "<Figure size 432x288 with 1 Axes>"
      ]
     },
     "metadata": {
      "needs_background": "light"
     },
     "output_type": "display_data"
    }
   ],
   "source": [
    "# сдвиг предсказаний по обучению на тренировочном датасете\n",
    "trainPredictPlot = np.empty_like(df_new)\n",
    "trainPredictPlot[:, :] = np.nan\n",
    "trainPredictPlot[look_back:len(trainPredict)+look_back, :] = trainPredict\n",
    "# сдвиг предсказаний по обучению на тестовом датасете\n",
    "testPredictPlot = np.empty_like(df_new)\n",
    "testPredictPlot[:, :] = np.nan\n",
    "testPredictPlot[len(trainPredict)+(look_back*2)+1:len(df)-1, :] = testPredict\n",
    "# построение графика исходных данных (синяя линия) и предсказанных прогнозов на тренировочном (оранжевая линия) и тестовом (зелёная линия) датасетах\n",
    "plt.plot(scaler.inverse_transform(df_new))\n",
    "plt.plot(trainPredictPlot)\n",
    "plt.plot(testPredictPlot)\n",
    "plt.show()"
   ]
  },
  {
   "cell_type": "code",
   "execution_count": null,
   "id": "a1ef6e45",
   "metadata": {},
   "outputs": [],
   "source": []
  }
 ],
 "metadata": {
  "kernelspec": {
   "display_name": "Python 3 (ipykernel)",
   "language": "python",
   "name": "python3"
  },
  "language_info": {
   "codemirror_mode": {
    "name": "ipython",
    "version": 3
   },
   "file_extension": ".py",
   "mimetype": "text/x-python",
   "name": "python",
   "nbconvert_exporter": "python",
   "pygments_lexer": "ipython3",
   "version": "3.9.12"
  }
 },
 "nbformat": 4,
 "nbformat_minor": 5
}

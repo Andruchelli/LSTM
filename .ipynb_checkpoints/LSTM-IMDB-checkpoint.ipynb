{
 "cells": [
  {
   "cell_type": "markdown",
   "id": "7ca15362",
   "metadata": {},
   "source": [
    "# Постановка задачи\n",
    "\n",
    "Прочитать про **word embeddings** и **bag of words** и классифицировать отзывы на фильмы из рейтинга **IMDB** (встроенный в keras датасет)."
   ]
  },
  {
   "cell_type": "code",
   "execution_count": 79,
   "id": "cbbfcf42",
   "metadata": {},
   "outputs": [],
   "source": [
    "import numpy as np\n",
    "import pandas as pd\n",
    "import matplotlib.pyplot as plt\n",
    "\n",
    "from tensorflow import keras\n",
    "from keras.preprocessing import sequence\n",
    "from sklearn.preprocessing import MinMaxScaler\n",
    "from keras.utils import pad_sequences\n",
    "from keras.models import Sequential\n",
    "from keras.layers import LSTM, Dense, Embedding, Dropout\n",
    "from keras.datasets import imdb # импортируем из модуля keras.datasets класс imdb (база данных фильмов из рейтинга IMDB)"
   ]
  },
  {
   "cell_type": "code",
   "execution_count": 80,
   "id": "f32527ea",
   "metadata": {},
   "outputs": [],
   "source": [
    "num_words = 2000 # размер словаря (количество значений для кодирования слов)\n",
    "(x_train, y_train), (x_test, y_test) = imdb.load_data(num_words=num_words) # импортируем тренируемые и тестовые данные из датасета imdb"
   ]
  },
  {
   "cell_type": "code",
   "execution_count": 81,
   "id": "07dce8d1",
   "metadata": {},
   "outputs": [
    {
     "data": {
      "text/plain": [
       "array([list([1, 14, 22, 16, 43, 530, 973, 1622, 1385, 65, 458, 2, 66, 2, 4, 173, 36, 256, 5, 25, 100, 43, 838, 112, 50, 670, 2, 9, 35, 480, 284, 5, 150, 4, 172, 112, 167, 2, 336, 385, 39, 4, 172, 2, 1111, 17, 546, 38, 13, 447, 4, 192, 50, 16, 6, 147, 2, 19, 14, 22, 4, 1920, 2, 469, 4, 22, 71, 87, 12, 16, 43, 530, 38, 76, 15, 13, 1247, 4, 22, 17, 515, 17, 12, 16, 626, 18, 2, 5, 62, 386, 12, 8, 316, 8, 106, 5, 4, 2, 2, 16, 480, 66, 2, 33, 4, 130, 12, 16, 38, 619, 5, 25, 124, 51, 36, 135, 48, 25, 1415, 33, 6, 22, 12, 215, 28, 77, 52, 5, 14, 407, 16, 82, 2, 8, 4, 107, 117, 2, 15, 256, 4, 2, 7, 2, 5, 723, 36, 71, 43, 530, 476, 26, 400, 317, 46, 7, 4, 2, 1029, 13, 104, 88, 4, 381, 15, 297, 98, 32, 2, 56, 26, 141, 6, 194, 2, 18, 4, 226, 22, 21, 134, 476, 26, 480, 5, 144, 30, 2, 18, 51, 36, 28, 224, 92, 25, 104, 4, 226, 65, 16, 38, 1334, 88, 12, 16, 283, 5, 16, 2, 113, 103, 32, 15, 16, 2, 19, 178, 32]),\n",
       "       list([1, 194, 1153, 194, 2, 78, 228, 5, 6, 1463, 2, 2, 134, 26, 4, 715, 8, 118, 1634, 14, 394, 20, 13, 119, 954, 189, 102, 5, 207, 110, 2, 21, 14, 69, 188, 8, 30, 23, 7, 4, 249, 126, 93, 4, 114, 9, 2, 1523, 5, 647, 4, 116, 9, 35, 2, 4, 229, 9, 340, 1322, 4, 118, 9, 4, 130, 2, 19, 4, 1002, 5, 89, 29, 952, 46, 37, 4, 455, 9, 45, 43, 38, 1543, 1905, 398, 4, 1649, 26, 2, 5, 163, 11, 2, 2, 4, 1153, 9, 194, 775, 7, 2, 2, 349, 2, 148, 605, 2, 2, 15, 123, 125, 68, 2, 2, 15, 349, 165, 2, 98, 5, 4, 228, 9, 43, 2, 1157, 15, 299, 120, 5, 120, 174, 11, 220, 175, 136, 50, 9, 2, 228, 2, 5, 2, 656, 245, 2, 5, 4, 2, 131, 152, 491, 18, 2, 32, 2, 1212, 14, 9, 6, 371, 78, 22, 625, 64, 1382, 9, 8, 168, 145, 23, 4, 1690, 15, 16, 4, 1355, 5, 28, 6, 52, 154, 462, 33, 89, 78, 285, 16, 145, 95]),\n",
       "       list([1, 14, 47, 8, 30, 31, 7, 4, 249, 108, 7, 4, 2, 54, 61, 369, 13, 71, 149, 14, 22, 112, 4, 2, 311, 12, 16, 2, 33, 75, 43, 1829, 296, 4, 86, 320, 35, 534, 19, 263, 2, 1301, 4, 1873, 33, 89, 78, 12, 66, 16, 4, 360, 7, 4, 58, 316, 334, 11, 4, 1716, 43, 645, 662, 8, 257, 85, 1200, 42, 1228, 2, 83, 68, 2, 15, 36, 165, 1539, 278, 36, 69, 2, 780, 8, 106, 14, 2, 1338, 18, 6, 22, 12, 215, 28, 610, 40, 6, 87, 326, 23, 2, 21, 23, 22, 12, 272, 40, 57, 31, 11, 4, 22, 47, 6, 2, 51, 9, 170, 23, 595, 116, 595, 1352, 13, 191, 79, 638, 89, 2, 14, 9, 8, 106, 607, 624, 35, 534, 6, 227, 7, 129, 113]),\n",
       "       ...,\n",
       "       list([1, 11, 6, 230, 245, 2, 9, 6, 1225, 446, 2, 45, 2, 84, 2, 2, 21, 4, 912, 84, 2, 325, 725, 134, 2, 1715, 84, 5, 36, 28, 57, 1099, 21, 8, 140, 8, 703, 5, 2, 84, 56, 18, 1644, 14, 9, 31, 7, 4, 2, 1209, 2, 2, 1008, 18, 6, 20, 207, 110, 563, 12, 8, 2, 2, 8, 97, 6, 20, 53, 2, 74, 4, 460, 364, 1273, 29, 270, 11, 960, 108, 45, 40, 29, 2, 395, 11, 6, 2, 500, 7, 2, 89, 364, 70, 29, 140, 4, 64, 2, 11, 4, 2, 26, 178, 4, 529, 443, 2, 5, 27, 710, 117, 2, 2, 165, 47, 84, 37, 131, 818, 14, 595, 10, 10, 61, 1242, 1209, 10, 10, 288, 2, 1702, 34, 2, 2, 4, 65, 496, 4, 231, 7, 790, 5, 6, 320, 234, 2, 234, 1119, 1574, 7, 496, 4, 139, 929, 2, 2, 2, 5, 2, 18, 4, 2, 2, 250, 11, 1818, 2, 4, 2, 2, 747, 1115, 372, 1890, 1006, 541, 2, 7, 4, 59, 2, 4, 2, 2]),\n",
       "       list([1, 1446, 2, 69, 72, 2, 13, 610, 930, 8, 12, 582, 23, 5, 16, 484, 685, 54, 349, 11, 2, 2, 45, 58, 1466, 13, 197, 12, 16, 43, 23, 2, 5, 62, 30, 145, 402, 11, 2, 51, 575, 32, 61, 369, 71, 66, 770, 12, 1054, 75, 100, 2, 8, 4, 105, 37, 69, 147, 712, 75, 2, 44, 257, 390, 5, 69, 263, 514, 105, 50, 286, 1814, 23, 4, 123, 13, 161, 40, 5, 421, 4, 116, 16, 897, 13, 2, 40, 319, 2, 112, 2, 11, 2, 121, 25, 70, 2, 4, 719, 2, 13, 18, 31, 62, 40, 8, 2, 4, 2, 7, 14, 123, 5, 942, 25, 8, 721, 12, 145, 5, 202, 12, 160, 580, 202, 12, 6, 52, 58, 2, 92, 401, 728, 12, 39, 14, 251, 8, 15, 251, 5, 2, 12, 38, 84, 80, 124, 12, 9, 23]),\n",
       "       list([1, 17, 6, 194, 337, 7, 4, 204, 22, 45, 254, 8, 106, 14, 123, 4, 2, 270, 2, 5, 2, 2, 732, 2, 101, 405, 39, 14, 1034, 4, 1310, 9, 115, 50, 305, 12, 47, 4, 168, 5, 235, 7, 38, 111, 699, 102, 7, 4, 2, 2, 9, 24, 6, 78, 1099, 17, 2, 2, 21, 27, 2, 2, 5, 2, 1603, 92, 1183, 4, 1310, 7, 4, 204, 42, 97, 90, 35, 221, 109, 29, 127, 27, 118, 8, 97, 12, 157, 21, 2, 2, 9, 6, 66, 78, 1099, 4, 631, 1191, 5, 2, 272, 191, 1070, 6, 2, 8, 2, 2, 2, 544, 5, 383, 1271, 848, 1468, 2, 497, 2, 8, 1597, 2, 2, 21, 60, 27, 239, 9, 43, 2, 209, 405, 10, 10, 12, 764, 40, 4, 248, 20, 12, 16, 5, 174, 1791, 72, 7, 51, 6, 1739, 22, 4, 204, 131, 9])],\n",
       "      dtype=object)"
      ]
     },
     "execution_count": 81,
     "metadata": {},
     "output_type": "execute_result"
    }
   ],
   "source": [
    "x_train"
   ]
  },
  {
   "cell_type": "markdown",
   "id": "a60fe964",
   "metadata": {},
   "source": [
    "## Предобработка данных"
   ]
  },
  {
   "cell_type": "code",
   "execution_count": 82,
   "id": "c74e4891",
   "metadata": {},
   "outputs": [],
   "source": [
    "max_review_length = 250 # по этому количеству слов сокращается отзыв\n",
    "x_train = pad_sequences(x_train, maxlen=max_review_length) # используем метод pad_sequences, чтобы последовательности в списках имели одинаковую длину; этот метод заполняет нулями (0) начало каждой последовательности до тех пор, пока каждая последовательность не будет иметь ту же длину, что и самая длинная последовательность \n",
    "x_test = pad_sequences(x_test, maxlen=max_review_length)"
   ]
  },
  {
   "cell_type": "code",
   "execution_count": 83,
   "id": "2cfe1c7c",
   "metadata": {},
   "outputs": [
    {
     "data": {
      "text/plain": [
       "array([[  0,   0,   0, ...,  19, 178,  32],\n",
       "       [  0,   0,   0, ...,  16, 145,  95],\n",
       "       [  0,   0,   0, ...,   7, 129, 113],\n",
       "       ...,\n",
       "       [  0,   0,   0, ...,   4,   2,   2],\n",
       "       [  0,   0,   0, ...,  12,   9,  23],\n",
       "       [  0,   0,   0, ..., 204, 131,   9]], dtype=int32)"
      ]
     },
     "execution_count": 83,
     "metadata": {},
     "output_type": "execute_result"
    }
   ],
   "source": [
    "x_train"
   ]
  },
  {
   "cell_type": "code",
   "execution_count": 86,
   "id": "b226d92f",
   "metadata": {},
   "outputs": [],
   "source": [
    "# приводим значения массивов к вещественным числам\n",
    "x_train = x_train.astype('float32')\n",
    "x_test = x_test.astype('float32')"
   ]
  },
  {
   "cell_type": "code",
   "execution_count": 87,
   "id": "9678df79",
   "metadata": {},
   "outputs": [
    {
     "data": {
      "text/plain": [
       "array([[  0.,   0.,   0., ...,  19., 178.,  32.],\n",
       "       [  0.,   0.,   0., ...,  16., 145.,  95.],\n",
       "       [  0.,   0.,   0., ...,   7., 129., 113.],\n",
       "       ...,\n",
       "       [  0.,   0.,   0., ...,   4.,   2.,   2.],\n",
       "       [  0.,   0.,   0., ...,  12.,   9.,  23.],\n",
       "       [  0.,   0.,   0., ..., 204., 131.,   9.]], dtype=float32)"
      ]
     },
     "execution_count": 87,
     "metadata": {},
     "output_type": "execute_result"
    }
   ],
   "source": [
    "x_train"
   ]
  },
  {
   "cell_type": "code",
   "execution_count": 88,
   "id": "90236415",
   "metadata": {},
   "outputs": [],
   "source": [
    "scaler = MinMaxScaler(feature_range=(0, 1)) # сжимаем данные от 0 до 1 (нормализируем данные), чтобы нейросети было проще обрабатывать данные\n",
    "x_train = scaler.fit_transform(x_train)\n",
    "x_test = scaler.fit_transform(x_test)"
   ]
  },
  {
   "cell_type": "code",
   "execution_count": 89,
   "id": "0b59c2db",
   "metadata": {},
   "outputs": [
    {
     "data": {
      "text/plain": [
       "array([[0.        , 0.        , 0.        , ..., 0.00852558, 0.08817635,\n",
       "        0.01503006],\n",
       "       [0.        , 0.        , 0.        , ..., 0.00702106, 0.07164329,\n",
       "        0.04659319],\n",
       "       [0.        , 0.        , 0.        , ..., 0.00250752, 0.06362725,\n",
       "        0.05561122],\n",
       "       ...,\n",
       "       [0.        , 0.        , 0.        , ..., 0.00100301, 0.        ,\n",
       "        0.        ],\n",
       "       [0.        , 0.        , 0.        , ..., 0.00501505, 0.00350701,\n",
       "        0.01052104],\n",
       "       [0.        , 0.        , 0.        , ..., 0.10130391, 0.06462926,\n",
       "        0.00350701]], dtype=float32)"
      ]
     },
     "execution_count": 89,
     "metadata": {},
     "output_type": "execute_result"
    }
   ],
   "source": [
    "x_train"
   ]
  },
  {
   "cell_type": "code",
   "execution_count": 90,
   "id": "565635d1",
   "metadata": {},
   "outputs": [
    {
     "data": {
      "text/plain": [
       "(25000, 250)"
      ]
     },
     "execution_count": 90,
     "metadata": {},
     "output_type": "execute_result"
    }
   ],
   "source": [
    "x_train.shape"
   ]
  },
  {
   "cell_type": "code",
   "execution_count": 91,
   "id": "d9d77353",
   "metadata": {},
   "outputs": [
    {
     "data": {
      "text/plain": [
       "array([[0.        , 0.        , 0.        , ..., 0.00601202, 0.002003  ,\n",
       "        0.35821643],\n",
       "       [0.00100908, 0.01155198, 0.65631264, ..., 0.06162325, 0.0010015 ,\n",
       "        0.        ],\n",
       "       [0.35872856, 0.00100452, 0.001002  , ..., 0.00350701, 0.02754131,\n",
       "        0.48747495],\n",
       "       ...,\n",
       "       [0.        , 0.        , 0.        , ..., 0.00951904, 0.42263395,\n",
       "        0.        ],\n",
       "       [0.        , 0.        , 0.        , ..., 0.        , 0.00250376,\n",
       "        0.23446895],\n",
       "       [0.        , 0.        , 0.        , ..., 0.01603206, 0.        ,\n",
       "        0.        ]], dtype=float32)"
      ]
     },
     "execution_count": 91,
     "metadata": {},
     "output_type": "execute_result"
    }
   ],
   "source": [
    "x_test"
   ]
  },
  {
   "cell_type": "code",
   "execution_count": 92,
   "id": "04e77423",
   "metadata": {},
   "outputs": [
    {
     "data": {
      "text/plain": [
       "(25000, 250)"
      ]
     },
     "execution_count": 92,
     "metadata": {},
     "output_type": "execute_result"
    }
   ],
   "source": [
    "x_test.shape"
   ]
  },
  {
   "cell_type": "markdown",
   "id": "bf85bcac",
   "metadata": {},
   "source": [
    "## Создание модели"
   ]
  },
  {
   "cell_type": "code",
   "execution_count": 110,
   "id": "47affcbf",
   "metadata": {},
   "outputs": [],
   "source": [
    "embedding_vector_length = 32 # размер векторного пространства, в которое будут встроены слова (n-мерный вектор, в который будет преобразовано каждое слово) - https://yandex.ru/q/tech/10818735873/\n",
    "model = Sequential()\n",
    "model.add(Embedding(input_dim=32, output_dim=embedding_vector_length, input_length=max_review_length)) # задаём слой внедрения; input_dim - количество отдельных слов в обучающем наборе (размер словаря); output_dim - размер векторов вложения; input_length - длина входных последовательностей (длина отзыва)\n",
    "model.add(LSTM(32))\n",
    "model.add(Dense(1))"
   ]
  },
  {
   "cell_type": "code",
   "execution_count": 111,
   "id": "6ca4f44e",
   "metadata": {},
   "outputs": [
    {
     "name": "stdout",
     "output_type": "stream",
     "text": [
      "Model: \"sequential_18\"\n",
      "_________________________________________________________________\n",
      " Layer (type)                Output Shape              Param #   \n",
      "=================================================================\n",
      " embedding_16 (Embedding)    (None, 250, 32)           1024      \n",
      "                                                                 \n",
      " lstm_11 (LSTM)              (None, 32)                8320      \n",
      "                                                                 \n",
      " dense_14 (Dense)            (None, 1)                 33        \n",
      "                                                                 \n",
      "=================================================================\n",
      "Total params: 9,377\n",
      "Trainable params: 9,377\n",
      "Non-trainable params: 0\n",
      "_________________________________________________________________\n"
     ]
    }
   ],
   "source": [
    "model.summary()"
   ]
  },
  {
   "cell_type": "code",
   "execution_count": 112,
   "id": "77d80c55",
   "metadata": {},
   "outputs": [],
   "source": [
    "model.compile(loss='mean_squared_error', optimizer='adam', metrics=['accuracy']) # компилируем модель"
   ]
  },
  {
   "cell_type": "code",
   "execution_count": 113,
   "id": "5619dbe7",
   "metadata": {
    "scrolled": true
   },
   "outputs": [
    {
     "name": "stdout",
     "output_type": "stream",
     "text": [
      "Epoch 1/10\n",
      "625/625 [==============================] - 48s 72ms/step - loss: 0.2545 - accuracy: 0.4986 - val_loss: 0.2521 - val_accuracy: 0.4942\n",
      "Epoch 2/10\n",
      "625/625 [==============================] - 44s 71ms/step - loss: 0.2509 - accuracy: 0.5007 - val_loss: 0.2504 - val_accuracy: 0.4942\n",
      "Epoch 3/10\n",
      "625/625 [==============================] - 46s 74ms/step - loss: 0.2505 - accuracy: 0.5068 - val_loss: 0.2499 - val_accuracy: 0.5062\n",
      "Epoch 4/10\n",
      "625/625 [==============================] - 44s 71ms/step - loss: 0.2506 - accuracy: 0.5044 - val_loss: 0.2516 - val_accuracy: 0.4942\n",
      "Epoch 5/10\n",
      "625/625 [==============================] - 46s 74ms/step - loss: 0.2507 - accuracy: 0.4996 - val_loss: 0.2499 - val_accuracy: 0.5062\n",
      "Epoch 6/10\n",
      "625/625 [==============================] - 56s 90ms/step - loss: 0.2504 - accuracy: 0.5057 - val_loss: 0.2501 - val_accuracy: 0.5062\n",
      "Epoch 7/10\n",
      "625/625 [==============================] - 48s 77ms/step - loss: 0.2505 - accuracy: 0.4999 - val_loss: 0.2515 - val_accuracy: 0.4942\n",
      "Epoch 8/10\n",
      "625/625 [==============================] - 45s 72ms/step - loss: 0.2505 - accuracy: 0.5005 - val_loss: 0.2503 - val_accuracy: 0.4942\n",
      "Epoch 9/10\n",
      "625/625 [==============================] - 45s 71ms/step - loss: 0.2506 - accuracy: 0.4961 - val_loss: 0.2499 - val_accuracy: 0.5062\n",
      "Epoch 10/10\n",
      "625/625 [==============================] - 45s 71ms/step - loss: 0.2504 - accuracy: 0.5046 - val_loss: 0.2499 - val_accuracy: 0.5062\n"
     ]
    },
    {
     "data": {
      "text/plain": [
       "<keras.callbacks.History at 0x7fb5177db2e0>"
      ]
     },
     "execution_count": 113,
     "metadata": {},
     "output_type": "execute_result"
    }
   ],
   "source": [
    "model.fit(x_train, y_train, epochs=10, batch_size=32, verbose=1, validation_split=0.2)"
   ]
  },
  {
   "cell_type": "code",
   "execution_count": null,
   "id": "2bd803da",
   "metadata": {},
   "outputs": [],
   "source": []
  }
 ],
 "metadata": {
  "kernelspec": {
   "display_name": "Python 3 (ipykernel)",
   "language": "python",
   "name": "python3"
  },
  "language_info": {
   "codemirror_mode": {
    "name": "ipython",
    "version": 3
   },
   "file_extension": ".py",
   "mimetype": "text/x-python",
   "name": "python",
   "nbconvert_exporter": "python",
   "pygments_lexer": "ipython3",
   "version": "3.9.12"
  }
 },
 "nbformat": 4,
 "nbformat_minor": 5
}
